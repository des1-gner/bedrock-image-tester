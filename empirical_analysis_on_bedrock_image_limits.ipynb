{
 "cells": [
  {
   "cell_type": "code",
   "execution_count": 24,
   "id": "3298a06b-15e9-4869-aa9b-558936560dc1",
   "metadata": {},
   "outputs": [
    {
     "name": "stdout",
     "output_type": "stream",
     "text": [
      "Setup complete! Ready to test images.\n"
     ]
    }
   ],
   "source": [
    "# Copyright Amazon.com, Inc. or its affiliates. All Rights Reserved.\n",
    "# SPDX-License-Identifier: Apache-2.0\n",
    "\"\"\"\n",
    "Shows how to send multiple images with the Converse API with an accompanying text prompt to Anthropic Claude 3 Sonnet (on demand).\n",
    "\"\"\"\n",
    "\n",
    "import logging\n",
    "import boto3\n",
    "import os\n",
    "import time\n",
    "\n",
    "from botocore.exceptions import ClientError\n",
    "\n",
    "logger = logging.getLogger(__name__)\n",
    "logging.basicConfig(level=logging.INFO)\n",
    "\n",
    "def generate_conversation(bedrock_client,\n",
    "                          model_id,\n",
    "                          input_text,\n",
    "                          input_image,\n",
    "                          num_images=20):\n",
    "    \"\"\"\n",
    "    Sends a message to a model with multiple copies of the same image.\n",
    "    \"\"\"\n",
    "\n",
    "    logger.info(\"Generating message with model %s and %d copies of %s\", model_id, num_images, input_image)\n",
    "\n",
    "    # Get image extension and read in image as bytes\n",
    "    image_ext = input_image.split(\".\")[-1]\n",
    "    with open(input_image, \"rb\") as f:\n",
    "        image_bytes = f.read()\n",
    "\n",
    "    # Create content array starting with text\n",
    "    content = [\n",
    "        {\n",
    "            \"text\": input_text\n",
    "        }\n",
    "    ]\n",
    "    \n",
    "    # Add the same image multiple times\n",
    "    for i in range(num_images):\n",
    "        content.append({\n",
    "            \"image\": {\n",
    "                \"format\": image_ext,\n",
    "                \"source\": {\n",
    "                    \"bytes\": image_bytes\n",
    "                }\n",
    "            }\n",
    "        })\n",
    "\n",
    "    message = {\n",
    "        \"role\": \"user\",\n",
    "        \"content\": content\n",
    "    }\n",
    "\n",
    "    messages = [message]\n",
    "\n",
    "    # Send the message.\n",
    "    response = bedrock_client.converse(\n",
    "        modelId=model_id,\n",
    "        messages=messages\n",
    "    )\n",
    "\n",
    "    return response\n",
    "\n",
    "def test_image_file(bedrock_client, model_id, image_path, num_images):\n",
    "    \"\"\"Test a single image file with specified number of copies\"\"\"\n",
    "    \n",
    "    # Get file size for reporting\n",
    "    file_size = os.path.getsize(image_path) / (1024 * 1024)  # MB\n",
    "    \n",
    "    print(f\"\\n{'='*60}\")\n",
    "    print(f\"Testing: {image_path}\")\n",
    "    print(f\"File size: {file_size:.2f} MB\")\n",
    "    print(f\"Number of copies: {num_images}\")\n",
    "    print(f\"{'='*60}\")\n",
    "    \n",
    "    input_text = f\"What's in these {num_images} images? (They're all the same {os.path.basename(image_path)} for testing purposes)\"\n",
    "    \n",
    "    try:\n",
    "        response = generate_conversation(\n",
    "            bedrock_client, model_id, input_text, image_path, num_images)\n",
    "\n",
    "        output_message = response['output']['message']\n",
    "\n",
    "        print(f\"✅ SUCCESS!\")\n",
    "        print(f\"Role: {output_message['role']}\")\n",
    "\n",
    "        for content in output_message['content']:\n",
    "            print(f\"Text: {content['text'][:200]}...\")  # Truncate long responses\n",
    "\n",
    "        token_usage = response['usage']\n",
    "        print(f\"Input tokens:  {token_usage['inputTokens']}\")\n",
    "        print(f\"Output tokens:  {token_usage['outputTokens']}\")\n",
    "        print(f\"Total tokens:  {token_usage['totalTokens']}\")\n",
    "        print(f\"Tokens per image: ~{(token_usage['inputTokens'] - 20) / num_images:.0f}\")  # Rough calc\n",
    "        print(f\"Stop reason: {response['stopReason']}\")\n",
    "\n",
    "        return True, token_usage\n",
    "\n",
    "    except ClientError as err:\n",
    "        message = err.response['Error']['Message']\n",
    "        logger.error(\"A client error occurred: %s\", message)\n",
    "        print(f\"❌ FAILED: {message}\")\n",
    "        return False, None\n",
    "\n",
    "# Initialize client\n",
    "model_id = \"anthropic.claude-3-sonnet-20240229-v1:0\"\n",
    "bedrock_client = boto3.client(service_name=\"bedrock-runtime\")\n",
    "\n",
    "print(\"Setup complete! Ready to test images.\")"
   ]
  },
  {
   "cell_type": "code",
   "execution_count": 25,
   "id": "8bafb1c2-4bbf-4fdf-abf6-d351c4d99701",
   "metadata": {},
   "outputs": [
    {
     "name": "stderr",
     "output_type": "stream",
     "text": [
      "INFO:__main__:Generating message with model anthropic.claude-3-sonnet-20240229-v1:0 and 20 copies of under1mb.jpeg\n"
     ]
    },
    {
     "name": "stdout",
     "output_type": "stream",
     "text": [
      "Testing under1mb.jpeg with 20 copies...\n",
      "\n",
      "============================================================\n",
      "Testing: under1mb.jpeg\n",
      "File size: 0.85 MB\n",
      "Number of copies: 20\n",
      "============================================================\n",
      "✅ SUCCESS!\n",
      "Role: assistant\n",
      "Text: The image shows a scenic natural pool or cenote surrounded by rocky cliffs. The water in the pool is a striking turquoise-green color. There are many people swimming and wading in the pool or gathered...\n",
      "Input tokens:  30811\n",
      "Output tokens:  99\n",
      "Total tokens:  30910\n",
      "Tokens per image: ~1540\n",
      "Stop reason: end_turn\n"
     ]
    }
   ],
   "source": [
    "print(\"Testing under1mb.jpeg with 20 copies...\")\n",
    "success1, tokens1 = test_image_file(bedrock_client, model_id, \"under1mb.jpeg\", 20)"
   ]
  },
  {
   "cell_type": "code",
   "execution_count": 26,
   "id": "ac17993c-e447-4a93-a4a9-c6c9110113fe",
   "metadata": {},
   "outputs": [
    {
     "name": "stderr",
     "output_type": "stream",
     "text": [
      "INFO:__main__:Generating message with model anthropic.claude-3-sonnet-20240229-v1:0 and 20 copies of over1mb.jpeg\n"
     ]
    },
    {
     "name": "stdout",
     "output_type": "stream",
     "text": [
      "Testing over1mb.jpeg with 20 copies...\n",
      "\n",
      "============================================================\n",
      "Testing: over1mb.jpeg\n",
      "File size: 1.31 MB\n",
      "Number of copies: 20\n",
      "============================================================\n"
     ]
    },
    {
     "name": "stderr",
     "output_type": "stream",
     "text": [
      "ERROR:__main__:A client error occurred: Input is too long for requested model.\n"
     ]
    },
    {
     "name": "stdout",
     "output_type": "stream",
     "text": [
      "❌ FAILED: Input is too long for requested model.\n"
     ]
    }
   ],
   "source": [
    "print(\"Testing over1mb.jpeg with 20 copies...\")\n",
    "success2, tokens2 = test_image_file(bedrock_client, model_id, \"over1mb.jpeg\", 20)"
   ]
  },
  {
   "cell_type": "code",
   "execution_count": 32,
   "id": "3f0afa5e-c10b-4831-a933-0caa4149a54f",
   "metadata": {},
   "outputs": [
    {
     "name": "stderr",
     "output_type": "stream",
     "text": [
      "INFO:__main__:Generating message with model anthropic.claude-3-sonnet-20240229-v1:0 and 7 copies of 3mb.jpeg\n"
     ]
    },
    {
     "name": "stdout",
     "output_type": "stream",
     "text": [
      "Testing 3mb.jpeg with 7 copies...\n",
      "\n",
      "============================================================\n",
      "Testing: 3mb.jpeg\n",
      "File size: 2.48 MB\n",
      "Number of copies: 7\n",
      "============================================================\n",
      "✅ SUCCESS!\n",
      "Role: assistant\n",
      "Text: The images depict a scenic natural swimming pool located inside a large rocky cave or cavern. The pool has vibrant blue-green water, with rocky ledges and formations surrounding it.\n",
      "\n",
      "There are many pe...\n",
      "Input tokens:  10804\n",
      "Output tokens:  168\n",
      "Total tokens:  10972\n",
      "Tokens per image: ~1541\n",
      "Stop reason: end_turn\n"
     ]
    }
   ],
   "source": [
    "print(\"Testing 3mb.jpeg with 7 copies...\")\n",
    "success3, tokens3 = test_image_file(bedrock_client, model_id, \"3mb.jpeg\", 7)"
   ]
  },
  {
   "cell_type": "code",
   "execution_count": 30,
   "id": "a2ef5b5f-fe72-4316-9f28-88b87eaf27cf",
   "metadata": {},
   "outputs": [
    {
     "name": "stderr",
     "output_type": "stream",
     "text": [
      "INFO:__main__:Generating message with model anthropic.claude-3-sonnet-20240229-v1:0 and 8 copies of 3mb.jpeg\n"
     ]
    },
    {
     "name": "stdout",
     "output_type": "stream",
     "text": [
      "Testing 3mb.jpeg with 8 copies...\n",
      "\n",
      "============================================================\n",
      "Testing: 3mb.jpeg\n",
      "File size: 2.48 MB\n",
      "Number of copies: 8\n",
      "============================================================\n"
     ]
    },
    {
     "name": "stderr",
     "output_type": "stream",
     "text": [
      "ERROR:__main__:A client error occurred: Input is too long for requested model.\n"
     ]
    },
    {
     "name": "stdout",
     "output_type": "stream",
     "text": [
      "❌ FAILED: Input is too long for requested model.\n"
     ]
    }
   ],
   "source": [
    "print(\"Testing 3mb.jpeg with 8 copies...\")\n",
    "success4, tokens4 = test_image_file(bedrock_client, model_id, \"3mb.jpeg\", 8)"
   ]
  },
  {
   "cell_type": "code",
   "execution_count": 33,
   "id": "5ca86284-00fa-4052-8c32-cd2737a8533a",
   "metadata": {},
   "outputs": [
    {
     "name": "stdout",
     "output_type": "stream",
     "text": [
      "\n",
      "============================================================\n",
      "FINAL SUMMARY:\n",
      "============================================================\n",
      "✅ under1mb.jpeg (20 copies): Success\n",
      "   Input tokens: 30811\n",
      "   Total tokens: 30910\n",
      "❌ over1mb.jpeg (20 copies): Failed\n",
      "✅ 3mb.jpeg (7 copies): Success\n",
      "   Input tokens: 10804\n",
      "   Total tokens: 10972\n",
      "❌ 3mb.jpeg (8 copies): Failed\n",
      "\n",
      "All tests completed with model anthropic.claude-3-sonnet-20240229-v1:0.\n"
     ]
    }
   ],
   "source": [
    "print(f\"\\n{'='*60}\")\n",
    "print(\"FINAL SUMMARY:\")\n",
    "print(f\"{'='*60}\")\n",
    "\n",
    "results = [\n",
    "    (\"under1mb.jpeg (20 copies)\", success1, tokens1),\n",
    "    (\"over1mb.jpeg (20 copies)\", success2, tokens2), \n",
    "    (\"3mb.jpeg (7 copies)\", success3, tokens3),\n",
    "    (\"3mb.jpeg (8 copies)\", success4, tokens4)\n",
    "]\n",
    "\n",
    "for test_name, success, token_usage in results:\n",
    "    status_icon = \"✅\" if success else \"❌\"\n",
    "    print(f\"{status_icon} {test_name}: {'Success' if success else 'Failed'}\")\n",
    "    \n",
    "    if success and token_usage:\n",
    "        print(f\"   Input tokens: {token_usage['inputTokens']}\")\n",
    "        print(f\"   Total tokens: {token_usage['totalTokens']}\")\n",
    "\n",
    "print(f\"\\nAll tests completed with model {model_id}.\")"
   ]
  }
 ],
 "metadata": {
  "kernelspec": {
   "display_name": "conda_pytorch_p310",
   "language": "python",
   "name": "conda_pytorch_p310"
  },
  "language_info": {
   "codemirror_mode": {
    "name": "ipython",
    "version": 3
   },
   "file_extension": ".py",
   "mimetype": "text/x-python",
   "name": "python",
   "nbconvert_exporter": "python",
   "pygments_lexer": "ipython3",
   "version": "3.10.14"
  }
 },
 "nbformat": 4,
 "nbformat_minor": 5
}
